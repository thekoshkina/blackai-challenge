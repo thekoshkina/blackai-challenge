{
 "cells": [
  {
   "cell_type": "code",
   "execution_count": 1,
   "metadata": {},
   "outputs": [],
   "source": [
    "def sigmoid(x):\n",
    "    return 1. / (1.  + np.exp(-x))\n",
    "\n",
    "def softmax(x):\n",
    "    return np.exp(x) / np.sum(np.exp(x), axis=0)"
   ]
  },
  {
   "cell_type": "code",
   "execution_count": 2,
   "metadata": {},
   "outputs": [],
   "source": [
    "def data_gen(img_anns, batch_size):\n",
    "    num_img = len(img_anns)\n",
    "    shuffled_indices = np.random.permutation(np.arange(num_img))\n",
    "    l_bound = 0\n",
    "    r_bound = batch_size if batch_size < num_img else num_img\n",
    "\n",
    "    while True:\n",
    "        if l_bound == r_bound:\n",
    "            l_bound  = 0\n",
    "            r_bound = batch_size if batch_size < num_img else num_img\n",
    "            shuffled_indices = np.random.permutation(np.arange(num_img))\n",
    "\n",
    "        batch_size = r_bound - l_bound\n",
    "        currt_inst = 0\n",
    "        x_batch = np.zeros((batch_size, IMAGE_W, IMAGE_H, 3))\n",
    "        y_batch = np.zeros((batch_size, GRID_W, GRID_H, BOX, 5+CLASS))\n",
    "\n",
    "        for index in shuffled_indices[l_bound:r_bound]:\n",
    "            train_instance = img_anns[index]\n",
    "\n",
    "            # augment input image and fix object's position and size\n",
    "            img, all_obj = aug_img(train_instance)\n",
    "            #for obj in all_obj:\n",
    "            #    cv2.rectangle(img[:,:,::-1], (obj['xmin'],obj['ymin']), (obj['xmax'],obj['ymax']), (1,1,0), 3)\n",
    "            #plt.imshow(img); plt.show()\n",
    "\n",
    "            # construct output from object's position and size\n",
    "            for obj in all_obj:\n",
    "                box = []\n",
    "                center_x = .5*(obj['xmin'] + obj['xmax']) #xmin, xmax\n",
    "                center_x = center_x / (float(IMAGE_W) / GRID_W)\n",
    "                center_y = .5*(obj['ymin'] + obj['ymax']) #ymin, ymax\n",
    "                center_y = center_y / (float(IMAGE_H) / GRID_H)\n",
    "\n",
    "                grid_x = int(np.floor(center_x))\n",
    "                grid_y = int(np.floor(center_y))\n",
    "\n",
    "                if grid_x < GRID_W and grid_y < GRID_H:\n",
    "                    obj_idx = labels.index(obj['label'])\n",
    "                    box = [obj['xmin'], obj['ymin'], obj['xmax'], obj['ymax']]\n",
    "\n",
    "                    y_batch[currt_inst, grid_y, grid_x, :, 0:4]        = BOX * [box]\n",
    "                    y_batch[currt_inst, grid_y, grid_x, :, 4  ]        = BOX * [1.]\n",
    "                    y_batch[currt_inst, grid_y, grid_x, :, 5: ]        = BOX * [[0.]*CLASS]\n",
    "                    y_batch[currt_inst, grid_y, grid_x, :, 5+obj_idx] = 1.0\n",
    "\n",
    "            # concatenate batch input from the image\n",
    "            x_batch[currt_inst] = img\n",
    "            currt_inst += 1\n",
    "\n",
    "            del img, all_obj\n",
    "\n",
    "        yield x_batch, y_batch\n",
    "\n",
    "        l_bound  = r_bound\n",
    "        r_bound = r_bound + batch_size\n",
    "        if r_bound > num_img: r_bound = num_img\n"
   ]
  },
  {
   "cell_type": "code",
   "execution_count": null,
   "metadata": {},
   "outputs": [],
   "source": []
  }
 ],
 "metadata": {
  "kernelspec": {
   "display_name": "Python 2",
   "language": "python",
   "name": "python2"
  },
  "language_info": {
   "codemirror_mode": {
    "name": "ipython",
    "version": 2
   },
   "file_extension": ".py",
   "mimetype": "text/x-python",
   "name": "python",
   "nbconvert_exporter": "python",
   "pygments_lexer": "ipython2",
   "version": "2.7.10"
  }
 },
 "nbformat": 4,
 "nbformat_minor": 2
}
