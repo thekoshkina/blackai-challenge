{
 "cells": [
  {
   "cell_type": "code",
   "execution_count": 1,
   "metadata": {},
   "outputs": [],
   "source": [
    "import cv2\n",
    "from matplotlib import pyplot as plt\n",
    "import imutils\n",
    "import random\n",
    "import json\n",
    "import os\n",
    "from shutil import copyfile\n",
    "\n",
    "\n",
    "\n",
    "%matplotlib inline  "
   ]
  },
  {
   "cell_type": "code",
   "execution_count": 2,
   "metadata": {},
   "outputs": [],
   "source": [
    "ann = 'data/labels.txt'\n",
    "img_folder = 'data/depth/'"
   ]
  },
  {
   "cell_type": "code",
   "execution_count": null,
   "metadata": {},
   "outputs": [],
   "source": []
  },
  {
   "cell_type": "code",
   "execution_count": 3,
   "metadata": {
    "scrolled": true
   },
   "outputs": [
    {
     "name": "stdout",
     "output_type": "stream",
     "text": [
      "['seq0_0000_0', '-1', '5', '517', '258', '2']\n"
     ]
    }
   ],
   "source": [
    "# read the lables \n",
    "with open(ann) as f:\n",
    "    first_line = f.readline()\n",
    "    \n",
    "label = first_line.split()\n",
    "\n",
    "print label"
   ]
  },
  {
   "cell_type": "code",
   "execution_count": 4,
   "metadata": {},
   "outputs": [
    {
     "name": "stdout",
     "output_type": "stream",
     "text": [
      "data/depth/seq0_0000_0.pgm\n"
     ]
    }
   ],
   "source": [
    "print img_folder + label[0] + '.pgm'"
   ]
  },
  {
   "cell_type": "code",
   "execution_count": 5,
   "metadata": {},
   "outputs": [],
   "source": [
    "# parse a string of annotation \n",
    "def new_img_ann(line, filename):\n",
    "    \n",
    "    img = {'object':[]}\n",
    "    img['filename'] = filename\n",
    "            \n",
    "    image = cv2.imread(img['filename'])\n",
    "    img['height'], img['width'] = image.shape[:2]\n",
    "    return img\n",
    "        "
   ]
  },
  {
   "cell_type": "code",
   "execution_count": 36,
   "metadata": {},
   "outputs": [],
   "source": [
    "def parse_lables (ann, img_folder):\n",
    "    all_imgs = []\n",
    "    seen_labels = {}\n",
    "    \n",
    "    with open(ann) as f:\n",
    "        lines = f.readlines()\n",
    "        \n",
    "        \n",
    "    img = new_img_ann(sorted(lines)[0], img_folder + sorted(lines)[0].split()[0] + '.pgm')\n",
    "#     prev = img\n",
    "    \n",
    "    for line in sorted(lines):\n",
    "        split_line = line.split()\n",
    "            \n",
    "        filename = img_folder + split_line[0]  + '.pgm' \n",
    "        \n",
    "        \n",
    "#         if the image is new - create a new one, in not - add to the exsisting one\n",
    "        if filename != img['filename']:\n",
    "           \n",
    "            if len(img['object']) > 0:\n",
    "                all_imgs += [img]\n",
    "            \n",
    "            img = new_img_ann(line,  filename)\n",
    "            \n",
    "\n",
    "        \n",
    "#         read the box annotation\n",
    "        obj = {}\n",
    "        obj['xmin'] = int(round(float(split_line[1])))\n",
    "        obj['ymin'] = int(round(float(split_line[2])))\n",
    "        \n",
    "        obj['box_width'] = int(round(float(split_line[3])))\n",
    "        obj['box_height'] = int(round(float(split_line[4])))\n",
    "        \n",
    "        obj['xmax'] = obj['xmin'] + obj['box_width']\n",
    "        obj['ymax'] = obj['ymin'] + obj['box_height']\n",
    "        \n",
    "        obj['name'] = split_line[5]\n",
    "        \n",
    "        img['object'] += [obj]\n",
    "        \n",
    "#         prev = img # previous object filename\n",
    "        \n",
    "        \n",
    "        \n",
    "        if obj['name'] in seen_labels:\n",
    "            seen_labels[obj['name']] += 1\n",
    "        else:\n",
    "            seen_labels[obj['name']] = 1\n",
    "    \n",
    "    \n",
    "    return all_imgs, seen_labels"
   ]
  },
  {
   "cell_type": "code",
   "execution_count": 37,
   "metadata": {},
   "outputs": [],
   "source": [
    "images, seen_labels = parse_lables(ann, img_folder)"
   ]
  },
  {
   "cell_type": "code",
   "execution_count": 32,
   "metadata": {},
   "outputs": [
    {
     "data": {
      "text/plain": [
       "{'1': 2396, '2': 2102}"
      ]
     },
     "execution_count": 32,
     "metadata": {},
     "output_type": "execute_result"
    }
   ],
   "source": [
    "seen_labels"
   ]
  },
  {
   "cell_type": "code",
   "execution_count": 33,
   "metadata": {
    "scrolled": true
   },
   "outputs": [
    {
     "name": "stdout",
     "output_type": "stream",
     "text": [
      "2349\n",
      "2349\n",
      "2349\n"
     ]
    }
   ],
   "source": [
    "names=[]\n",
    "for r in images:\n",
    "    names += [r['filename']]\n",
    "    \n",
    "print len(names)    \n",
    "print len(set(names))\n",
    "print len(images)\n",
    "\n",
    "# len(set([i['filename'] in images]))"
   ]
  },
  {
   "cell_type": "code",
   "execution_count": 34,
   "metadata": {},
   "outputs": [],
   "source": [
    "def pr(x): print x"
   ]
  },
  {
   "cell_type": "code",
   "execution_count": 38,
   "metadata": {},
   "outputs": [
    {
     "name": "stdout",
     "output_type": "stream",
     "text": [
      "data/depth/seq0_0000_0.pgm\n",
      "data/depth/seq0_0000_1.pgm\n"
     ]
    },
    {
     "data": {
      "text/plain": [
       "[None, None]"
      ]
     },
     "execution_count": 38,
     "metadata": {},
     "output_type": "execute_result"
    }
   ],
   "source": [
    "[pr(i['filename']) for i in images[:2]]"
   ]
  },
  {
   "cell_type": "code",
   "execution_count": 39,
   "metadata": {
    "scrolled": false
   },
   "outputs": [
    {
     "name": "stdout",
     "output_type": "stream",
     "text": [
      "1087\n"
     ]
    },
    {
     "data": {
      "text/plain": [
       "{'filename': 'data/depth/seq0_0476_0.pgm',\n",
       " 'height': 480,\n",
       " 'object': [{'box_height': 105,\n",
       "   'box_width': 211,\n",
       "   'label': '1',\n",
       "   'xmax': 395,\n",
       "   'xmin': 184,\n",
       "   'ymax': 316,\n",
       "   'ymin': 211},\n",
       "  {'box_height': 76,\n",
       "   'box_width': 153,\n",
       "   'label': '1',\n",
       "   'xmax': 370,\n",
       "   'xmin': 217,\n",
       "   'ymax': 181,\n",
       "   'ymin': 105}],\n",
       " 'width': 640}"
      ]
     },
     "execution_count": 39,
     "metadata": {},
     "output_type": "execute_result"
    }
   ],
   "source": [
    "idx = random.randint(0, len(images))\n",
    "print(idx)\n",
    "images[idx]"
   ]
  },
  {
   "cell_type": "code",
   "execution_count": 40,
   "metadata": {},
   "outputs": [],
   "source": [
    "def draw_boxes(ann):\n",
    "    \n",
    "    img = cv2.imread(ann['filename'])\n",
    "\n",
    "\n",
    "#     image_h, image_w, _ = img.shape\n",
    "\n",
    "    for box in ann['object']:\n",
    "       \n",
    "\n",
    "        cv2.rectangle(img, (box['xmin'],box['ymin']), (box['xmax'],box['ymax']), (155,120*int(box['label']),0), 3)\n",
    "       \n",
    "        \n",
    "    return img         "
   ]
  },
  {
   "cell_type": "code",
   "execution_count": 41,
   "metadata": {},
   "outputs": [
    {
     "name": "stdout",
     "output_type": "stream",
     "text": [
      "{'height': 480, 'width': 640, 'object': [{'ymax': 316, 'label': '1', 'box_height': 105, 'box_width': 211, 'xmax': 395, 'xmin': 184, 'ymin': 211}, {'ymax': 181, 'label': '1', 'box_height': 76, 'box_width': 153, 'xmax': 370, 'xmin': 217, 'ymin': 105}], 'filename': 'data/depth/seq0_0476_0.pgm'}\n"
     ]
    },
    {
     "data": {
      "text/plain": [
       "<matplotlib.image.AxesImage at 0x11508a890>"
      ]
     },
     "execution_count": 41,
     "metadata": {},
     "output_type": "execute_result"
    },
    {
     "data": {
      "image/png": "[encoded data removed]",
      "text/plain": [
       "<Figure size 432x288 with 1 Axes>"
      ]
     },
     "metadata": {
      "needs_background": "light"
     },
     "output_type": "display_data"
    }
   ],
   "source": [
    "tmp = images[idx]\n",
    "# img = cv2.imread(tmp['filename'])\n",
    "print tmp\n",
    "# plt.imshow(img) \n",
    "plt.imshow(draw_boxes(tmp))\n",
    "\n"
   ]
  },
  {
   "cell_type": "code",
   "execution_count": 15,
   "metadata": {},
   "outputs": [
    {
     "name": "stdout",
     "output_type": "stream",
     "text": [
      "xrange(2349)\n"
     ]
    }
   ],
   "source": [
    "print xrange(0, len(images))"
   ]
  },
  {
   "cell_type": "code",
   "execution_count": 28,
   "metadata": {},
   "outputs": [],
   "source": [
    "# split into training and validation \n",
    "def split_data (images, val_proportion):\n",
    "    \n",
    "    val_inx = random.sample(xrange(len(images)), int(round(len(images)*val_proportion)))\n",
    "\n",
    "    val_images = [images[i] for i  in val_inx]\n",
    "    train_images = [images[i] for i in xrange(len(images)) if i not in val_inx]\n",
    "    \n",
    "    return train_images, val_images"
   ]
  },
  {
   "cell_type": "code",
   "execution_count": 29,
   "metadata": {
    "scrolled": true
   },
   "outputs": [
    {
     "name": "stdout",
     "output_type": "stream",
     "text": [
      "470\n",
      "1879\n"
     ]
    }
   ],
   "source": [
    "train_images, val_images = split_data (images, .2)\n",
    "print len(val_images)\n",
    "print len(train_images)"
   ]
  },
  {
   "cell_type": "code",
   "execution_count": null,
   "metadata": {},
   "outputs": [],
   "source": []
  },
  {
   "cell_type": "code",
   "execution_count": 18,
   "metadata": {},
   "outputs": [],
   "source": [
    "with open('data/train_ann.json', 'w') as outfile:\n",
    "    json.dump(train_images, outfile)\n",
    "    \n",
    "with open('data/val_ann.json', 'w') as outfile:\n",
    "    json.dump(val_images, outfile)"
   ]
  },
  {
   "cell_type": "code",
   "execution_count": 19,
   "metadata": {},
   "outputs": [],
   "source": [
    "# img = open( 'data/depth/seq0_0000_0.pgm', 'wb')\n",
    "# img = cv2.imdecode(img,1)\n",
    "# img =  cv2.imread('data/depth/seq0_0000_0.pgm')\n",
    "# cv2.imwrite('data/test.pgm', img);"
   ]
  },
  {
   "cell_type": "code",
   "execution_count": 20,
   "metadata": {},
   "outputs": [],
   "source": [
    "# import os\n",
    "# # rotate and save images into corresponding \n",
    "# def split_data(img_folder, train_images, val_images):\n",
    "    \n",
    "#     val_dir = 'data/val/'\n",
    "#     os.makedirs(val_dir)\n",
    "    \n",
    "#     for i in val_images:\n",
    "#         img =  cv2.imread(img_folder + i['filename'] +'.pgm')\n",
    "# #         img =  cv2.imread()\n",
    "# #         copyfile(img_folder + i['filename'], dst)\n",
    "#         cv2.imwrite( val_dir + i['filename'] , img);\n",
    "    \n",
    "#     train_dir = 'data/train/'\n",
    "#     os.makedirs(train_dir)\n",
    "    \n",
    "#     for i in val_images:\n",
    "# #          img = open(img_folder + i['filename'], 'wb')\n",
    "#         img =  cv2.imread(img_folder + i['filename'] + '.pgm')\n",
    "#         cv2.imwrite( train_dir + i['filename'], img);\n",
    "    \n",
    "    \n",
    "#     return 0\n",
    "    \n",
    "    "
   ]
  },
  {
   "cell_type": "code",
   "execution_count": 21,
   "metadata": {},
   "outputs": [],
   "source": [
    "# split_data(img_folder, train_images, val_images)"
   ]
  },
  {
   "cell_type": "code",
   "execution_count": 22,
   "metadata": {},
   "outputs": [],
   "source": [
    "# # rotate the images  90 degrees\n",
    "\n",
    " \n",
    "# # read image as grey scale\n",
    "# img = cv2.imread('data/depth/seq0_0000_0.pgm')\n",
    "\n",
    "# plt.imshow(img) \n",
    "# # plt.title('original')\n",
    "\n",
    "# # Draw a diagonal blue line with thickness of 5 px\n",
    "# # boximg = cv2.rectangle(img,(-1,5),(-1+517,5+258),(0,255,0),3)\n",
    "# # plt.imshow(boximg)\n",
    "    \n",
    "    \n",
    "# # cv2.drawContours(img,[box],0,(0,0,255),2)\n",
    "\n",
    "\n",
    "# # get image height, width\n",
    "# (h, w) = img.shape[:2]\n",
    "\n",
    "# # calculate the center of the image\n",
    "# # center = (w / 2, h / 2)\n",
    " \n",
    "\n"
   ]
  },
  {
   "cell_type": "code",
   "execution_count": null,
   "metadata": {},
   "outputs": [],
   "source": []
  },
  {
   "cell_type": "code",
   "execution_count": 23,
   "metadata": {},
   "outputs": [],
   "source": [
    "# Perform the counter clockwise rotation holding at the center\n",
    "# 90 degrees\n",
    "# M = cv2.getRotationMatrix2D(center, 90, 1.0)\n",
    "# rotated90 = cv2.warpAffine(img, M, (h, w))\n",
    " \n",
    "# cv2.imwrite( \"data/rotated.png\", rotated90 );\n",
    "\n",
    "# plt.imshow(rotated90) \n",
    "# plt.title('rotated')"
   ]
  },
  {
   "cell_type": "code",
   "execution_count": 24,
   "metadata": {},
   "outputs": [
    {
     "ename": "NameError",
     "evalue": "name 'img' is not defined",
     "output_type": "error",
     "traceback": [
      "\u001b[0;31m---------------------------------------------------------------------------\u001b[0m",
      "\u001b[0;31mNameError\u001b[0m                                 Traceback (most recent call last)",
      "\u001b[0;32m<ipython-input-24-476e9dd60a33>\u001b[0m in \u001b[0;36m<module>\u001b[0;34m()\u001b[0m\n\u001b[0;32m----> 1\u001b[0;31m \u001b[0mrotated\u001b[0m \u001b[0;34m=\u001b[0m \u001b[0mimutils\u001b[0m\u001b[0;34m.\u001b[0m\u001b[0mrotate_bound\u001b[0m\u001b[0;34m(\u001b[0m\u001b[0mimg\u001b[0m\u001b[0;34m,\u001b[0m \u001b[0;36m270\u001b[0m\u001b[0;34m)\u001b[0m\u001b[0;34m\u001b[0m\u001b[0m\n\u001b[0m\u001b[1;32m      2\u001b[0m \u001b[0;34m\u001b[0m\u001b[0m\n\u001b[1;32m      3\u001b[0m \u001b[0;31m#\u001b[0m\u001b[0;34m\u001b[0m\u001b[0;34m\u001b[0m\u001b[0m\n\u001b[1;32m      4\u001b[0m \u001b[0mplt\u001b[0m\u001b[0;34m.\u001b[0m\u001b[0mimshow\u001b[0m\u001b[0;34m(\u001b[0m\u001b[0mrotated\u001b[0m\u001b[0;34m)\u001b[0m\u001b[0;34m\u001b[0m\u001b[0m\n\u001b[1;32m      5\u001b[0m \u001b[0mplt\u001b[0m\u001b[0;34m.\u001b[0m\u001b[0mtitle\u001b[0m\u001b[0;34m(\u001b[0m\u001b[0;34m'rotated'\u001b[0m\u001b[0;34m)\u001b[0m\u001b[0;34m\u001b[0m\u001b[0m\n",
      "\u001b[0;31mNameError\u001b[0m: name 'img' is not defined"
     ]
    }
   ],
   "source": [
    "rotated = imutils.rotate_bound(img, 270)\n",
    "\n",
    "# \n",
    "plt.imshow(rotated) \n",
    "plt.title('rotated')"
   ]
  },
  {
   "cell_type": "code",
   "execution_count": null,
   "metadata": {},
   "outputs": [],
   "source": [
    "# cv2.imshow('Original Image',img)\n",
    "# cv2.waitKey(0) # waits until a key is pressed\n",
    "# cv2.destroyAllWindows() # destroys the window showing image\n",
    " \n",
    "cv2.imshow('Image rotated by 90 degrees',rotated90)\n",
    "cv2.waitKey(0) # waits until a key is pressed\n",
    "cv2.destroyAllWindows() # destroys the window showing image\n",
    " "
   ]
  },
  {
   "cell_type": "code",
   "execution_count": null,
   "metadata": {},
   "outputs": [],
   "source": [
    "f = open(annot,'r')\n",
    "while True:\n",
    "    text = f.readline()\n",
    "    if 'rawr' in text:\n",
    "        print text"
   ]
  },
  {
   "cell_type": "code",
   "execution_count": null,
   "metadata": {},
   "outputs": [],
   "source": [
    "from os import listdir\n",
    "from os.path import isfile, join\n",
    "all = [f for f in listdir('data/')]"
   ]
  },
  {
   "cell_type": "code",
   "execution_count": null,
   "metadata": {},
   "outputs": [],
   "source": [
    "print onlyfiles"
   ]
  },
  {
   "cell_type": "code",
   "execution_count": null,
   "metadata": {},
   "outputs": [],
   "source": [
    "# randomly split to  test/validation making sure we have all the labels"
   ]
  }
 ],
 "metadata": {
  "kernelspec": {
   "display_name": "Python 2",
   "language": "python",
   "name": "python2"
  },
  "language_info": {
   "codemirror_mode": {
    "name": "ipython",
    "version": 2
   },
   "file_extension": ".py",
   "mimetype": "text/x-python",
   "name": "python",
   "nbconvert_exporter": "python",
   "pygments_lexer": "ipython2",
   "version": "2.7.10"
  }
 },
 "nbformat": 4,
 "nbformat_minor": 2
}
