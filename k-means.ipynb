{
 "cells": [
  {
   "cell_type": "markdown",
   "metadata": {},
   "source": [
    "from https://github.com/qqwweee/keras-yolo3/blob/master/kmeans.py"
   ]
  },
  {
   "cell_type": "code",
   "execution_count": 1,
   "metadata": {},
   "outputs": [],
   "source": [
    "import numpy as np"
   ]
  },
  {
   "cell_type": "code",
   "execution_count": 41,
   "metadata": {},
   "outputs": [],
   "source": [
    "import numpy as np\n",
    "\n",
    "\n",
    "class YOLO_Kmeans:\n",
    "\n",
    "    def __init__(self, cluster_number, filename):\n",
    "        self.cluster_number = cluster_number\n",
    "        self.filename = filename\n",
    "\n",
    "    def iou(self, boxes, clusters):  # 1 box -> k clusters\n",
    "        n = boxes.shape[0]\n",
    "        k = self.cluster_number\n",
    "\n",
    "        box_area = boxes[:, 0] * boxes[:, 1]\n",
    "        box_area = box_area.repeat(k)\n",
    "        box_area = np.reshape(box_area, (n, k))\n",
    "\n",
    "        cluster_area = clusters[:, 0] * clusters[:, 1]\n",
    "        cluster_area = np.tile(cluster_area, [1, n])\n",
    "        cluster_area = np.reshape(cluster_area, (n, k))\n",
    "\n",
    "        box_w_matrix = np.reshape(boxes[:, 0].repeat(k), (n, k))\n",
    "        cluster_w_matrix = np.reshape(np.tile(clusters[:, 0], (1, n)), (n, k))\n",
    "        min_w_matrix = np.minimum(cluster_w_matrix, box_w_matrix)\n",
    "\n",
    "        box_h_matrix = np.reshape(boxes[:, 1].repeat(k), (n, k))\n",
    "        cluster_h_matrix = np.reshape(np.tile(clusters[:, 1], (1, n)), (n, k))\n",
    "        min_h_matrix = np.minimum(cluster_h_matrix, box_h_matrix)\n",
    "        inter_area = np.multiply(min_w_matrix, min_h_matrix)\n",
    "\n",
    "        result = inter_area / (box_area + cluster_area - inter_area)\n",
    "        return result\n",
    "\n",
    "\n",
    "    def avg_iou(self, boxes, clusters):\n",
    "        accuracy = np.mean([np.max(self.iou(boxes, clusters), axis=1)])\n",
    "        return accuracy\n",
    "\n",
    "    def kmeans(self, boxes, k, dist=np.median):\n",
    "        box_number = boxes.shape[0]\n",
    "        distances = np.empty((box_number, k))\n",
    "        last_nearest = np.zeros((box_number,))\n",
    "        np.random.seed()\n",
    "        clusters = boxes[np.random.choice(\n",
    "            box_number, k, replace=False)]  # init k clusters\n",
    "        while True:\n",
    "\n",
    "            distances = 1 - self.iou(boxes, clusters)\n",
    "\n",
    "            current_nearest = np.argmin(distances, axis=1)\n",
    "            if (last_nearest == current_nearest).all():\n",
    "                break  # clusters won't change\n",
    "            for cluster in range(k):\n",
    "                clusters[cluster] = dist(  # update clusters\n",
    "                    boxes[current_nearest == cluster], axis=0)\n",
    "\n",
    "            last_nearest = current_nearest\n",
    "\n",
    "        return clusters\n",
    "\n",
    "    def result2txt(self, data):\n",
    "        f = open(\"yolo_anchors.txt\", 'w')\n",
    "        row = np.shape(data)[0]\n",
    "        for i in range(row):\n",
    "            if i == 0:\n",
    "                x_y = \"%f,%f\" % (data[i][0], data[i][1])\n",
    "            else:\n",
    "                x_y = \", %f,%f\" % (data[i][0], data[i][1])\n",
    "            f.write(x_y)\n",
    "        f.close()\n",
    "\n",
    "        \n",
    "        \n",
    "        \n",
    "    def txt2boxes(self):\n",
    "        f = open(self.filename, 'r')\n",
    "        dataSet = []\n",
    "        for line in f:\n",
    "            infos = line.split(\" \")\n",
    "            length = len(infos)\n",
    "            for i in range(1, length):\n",
    "                width = float(infos[3]) #/640\n",
    "                height = float(infos[4]) #/480\n",
    "                dataSet.append([width, height])\n",
    "        result = np.array(dataSet)\n",
    "        f.close()\n",
    "        return result\n",
    "\n",
    "    def txt2clusters(self):\n",
    "        all_boxes = self.txt2boxes()\n",
    "        result = self.kmeans(all_boxes, k=self.cluster_number)\n",
    "        result = result[np.lexsort(result.T[0, None])]\n",
    "        self.result2txt(result)\n",
    "        print(\"K anchors:\\n {}\".format(result))\n",
    "        print(\"Accuracy: {:.2f}%\".format(\n",
    "            self.avg_iou(all_boxes, result) * 100))\n"
   ]
  },
  {
   "cell_type": "code",
   "execution_count": 42,
   "metadata": {},
   "outputs": [
    {
     "name": "stdout",
     "output_type": "stream",
     "text": [
      "K anchors:\n",
      " [[149.   74. ]\n",
      " [194.   97. ]\n",
      " [282.  141. ]\n",
      " [392.  196. ]\n",
      " [511.5 255.5]]\n",
      "Accuracy: 86.87%\n"
     ]
    }
   ],
   "source": [
    "    cluster_number = 5\n",
    "    filename = \"data/labels.txt\"\n",
    "    kmeans = YOLO_Kmeans(cluster_number, filename)\n",
    "    kmeans.txt2clusters()"
   ]
  },
  {
   "cell_type": "code",
   "execution_count": null,
   "metadata": {},
   "outputs": [],
   "source": []
  }
 ],
 "metadata": {
  "kernelspec": {
   "display_name": "Python 2",
   "language": "python",
   "name": "python2"
  },
  "language_info": {
   "codemirror_mode": {
    "name": "ipython",
    "version": 2
   },
   "file_extension": ".py",
   "mimetype": "text/x-python",
   "name": "python",
   "nbconvert_exporter": "python",
   "pygments_lexer": "ipython2",
   "version": "2.7.10"
  }
 },
 "nbformat": 4,
 "nbformat_minor": 2
}
